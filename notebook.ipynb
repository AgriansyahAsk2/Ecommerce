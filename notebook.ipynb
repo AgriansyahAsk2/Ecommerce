{
 "cells": [
  {
   "cell_type": "markdown",
   "metadata": {
    "id": "H9wADwK78DCz"
   },
   "source": [
    "# Proyek Analisis Data: E-Commerce\n",
    "- Nama: Ahmad Agriansyah\n",
    "- Email: ahmadagriansyah1@gmail.com\n",
    "- Id Dicoding: ahmadagriansyah"
   ]
  },
  {
   "cell_type": "markdown",
   "metadata": {
    "id": "eE0raob58DC0"
   },
   "source": [
    "## Menentukan Pertanyaan Bisnis"
   ]
  },
  {
   "cell_type": "markdown",
   "metadata": {
    "id": "GmQeQ5YF8DC0"
   },
   "source": [
    "- Berapa banyaknya order/invoice per bulan?\n",
    "- Negara dengan pembelian terbanyak per bulan? (berdasarkan 5 negara teratas periode terakhir)"
   ]
  },
  {
   "cell_type": "markdown",
   "metadata": {
    "id": "H-z4QGlO8DC1"
   },
   "source": [
    "## Import Semua Packages/Library yang Digunakan"
   ]
  },
  {
   "cell_type": "code",
   "execution_count": 31,
   "metadata": {
    "executionInfo": {
     "elapsed": 2494,
     "status": "ok",
     "timestamp": 1702834782441,
     "user": {
      "displayName": "Agriansyah Ask",
      "userId": "01071083233405877854"
     },
     "user_tz": -420
    },
    "id": "FVYwaObI8DC1"
   },
   "outputs": [],
   "source": [
    "import pandas as pd\n",
    "import numpy as np\n",
    "import matplotlib.pyplot as plt"
   ]
  },
  {
   "cell_type": "markdown",
   "metadata": {
    "id": "h_Sh51Xy8DC1"
   },
   "source": [
    "## Data Wrangling"
   ]
  },
  {
   "cell_type": "markdown",
   "metadata": {
    "id": "sXU2GBYu8DC1"
   },
   "source": [
    "### Gathering Data"
   ]
  },
  {
   "cell_type": "code",
   "execution_count": 32,
   "metadata": {
    "colab": {
     "base_uri": "https://localhost:8080/",
     "height": 261
    },
    "executionInfo": {
     "elapsed": 1160,
     "status": "ok",
     "timestamp": 1702765676126,
     "user": {
      "displayName": "Agriansyah Ask",
      "userId": "01071083233405877854"
     },
     "user_tz": -420
    },
    "id": "486t0bgXTHJF",
    "outputId": "10a48566-f057-40e4-b1b1-ce33a0850510"
   },
   "outputs": [
    {
     "data": {
      "text/html": [
       "<div>\n",
       "<style scoped>\n",
       "    .dataframe tbody tr th:only-of-type {\n",
       "        vertical-align: middle;\n",
       "    }\n",
       "\n",
       "    .dataframe tbody tr th {\n",
       "        vertical-align: top;\n",
       "    }\n",
       "\n",
       "    .dataframe thead th {\n",
       "        text-align: right;\n",
       "    }\n",
       "</style>\n",
       "<table border=\"1\" class=\"dataframe\">\n",
       "  <thead>\n",
       "    <tr style=\"text-align: right;\">\n",
       "      <th></th>\n",
       "      <th>customer_id</th>\n",
       "      <th>customer_unique_id</th>\n",
       "      <th>customer_zip_code_prefix</th>\n",
       "      <th>customer_city</th>\n",
       "      <th>customer_state</th>\n",
       "      <th>order_id</th>\n",
       "      <th>order_status</th>\n",
       "      <th>order_purchase_timestamp</th>\n",
       "      <th>order_approved_at</th>\n",
       "      <th>order_delivered_carrier_date</th>\n",
       "      <th>order_delivered_customer_date</th>\n",
       "      <th>order_estimated_delivery_date</th>\n",
       "    </tr>\n",
       "  </thead>\n",
       "  <tbody>\n",
       "    <tr>\n",
       "      <th>0</th>\n",
       "      <td>06b8999e2fba1a1fbc88172c00ba8bc7</td>\n",
       "      <td>861eff4711a542e4b93843c6dd7febb0</td>\n",
       "      <td>14409</td>\n",
       "      <td>franca</td>\n",
       "      <td>SP</td>\n",
       "      <td>00e7ee1b050b8499577073aeb2a297a1</td>\n",
       "      <td>delivered</td>\n",
       "      <td>2017-05-16 15:05:35</td>\n",
       "      <td>2017-05-16 15:22:12</td>\n",
       "      <td>2017-05-23 10:47:57</td>\n",
       "      <td>2017-05-25 10:35:35</td>\n",
       "      <td>2017-06-05 00:00:00</td>\n",
       "    </tr>\n",
       "    <tr>\n",
       "      <th>1</th>\n",
       "      <td>18955e83d337fd6b2def6b18a428ac77</td>\n",
       "      <td>290c77bc529b7ac935b93aa66c333dc3</td>\n",
       "      <td>9790</td>\n",
       "      <td>sao bernardo do campo</td>\n",
       "      <td>SP</td>\n",
       "      <td>29150127e6685892b6eab3eec79f59c7</td>\n",
       "      <td>delivered</td>\n",
       "      <td>2018-01-12 20:48:24</td>\n",
       "      <td>2018-01-12 20:58:32</td>\n",
       "      <td>2018-01-15 17:14:59</td>\n",
       "      <td>2018-01-29 12:41:19</td>\n",
       "      <td>2018-02-06 00:00:00</td>\n",
       "    </tr>\n",
       "    <tr>\n",
       "      <th>2</th>\n",
       "      <td>4e7b3e00288586ebd08712fdd0374a03</td>\n",
       "      <td>060e732b5b29e8181a18229c7b0b2b5e</td>\n",
       "      <td>1151</td>\n",
       "      <td>sao paulo</td>\n",
       "      <td>SP</td>\n",
       "      <td>b2059ed67ce144a36e2aa97d2c9e9ad2</td>\n",
       "      <td>delivered</td>\n",
       "      <td>2018-05-19 16:07:45</td>\n",
       "      <td>2018-05-20 16:19:10</td>\n",
       "      <td>2018-06-11 14:31:00</td>\n",
       "      <td>2018-06-14 17:58:51</td>\n",
       "      <td>2018-06-13 00:00:00</td>\n",
       "    </tr>\n",
       "    <tr>\n",
       "      <th>3</th>\n",
       "      <td>b2b6027bc5c5109e529d4dc6358b12c3</td>\n",
       "      <td>259dac757896d24d7702b9acbbff3f3c</td>\n",
       "      <td>8775</td>\n",
       "      <td>mogi das cruzes</td>\n",
       "      <td>SP</td>\n",
       "      <td>951670f92359f4fe4a63112aa7306eba</td>\n",
       "      <td>delivered</td>\n",
       "      <td>2018-03-13 16:06:38</td>\n",
       "      <td>2018-03-13 17:29:19</td>\n",
       "      <td>2018-03-27 23:22:42</td>\n",
       "      <td>2018-03-28 16:04:25</td>\n",
       "      <td>2018-04-10 00:00:00</td>\n",
       "    </tr>\n",
       "    <tr>\n",
       "      <th>4</th>\n",
       "      <td>4f2d8ab171c80ec8364f7c12e35b23ad</td>\n",
       "      <td>345ecd01c38d18a9036ed96c73b8d066</td>\n",
       "      <td>13056</td>\n",
       "      <td>campinas</td>\n",
       "      <td>SP</td>\n",
       "      <td>6b7d50bd145f6fc7f33cebabd7e49d0f</td>\n",
       "      <td>delivered</td>\n",
       "      <td>2018-07-29 09:51:30</td>\n",
       "      <td>2018-07-29 10:10:09</td>\n",
       "      <td>2018-07-30 15:16:00</td>\n",
       "      <td>2018-08-09 20:55:48</td>\n",
       "      <td>2018-08-15 00:00:00</td>\n",
       "    </tr>\n",
       "  </tbody>\n",
       "</table>\n",
       "</div>"
      ],
      "text/plain": [
       "                        customer_id                customer_unique_id  \\\n",
       "0  06b8999e2fba1a1fbc88172c00ba8bc7  861eff4711a542e4b93843c6dd7febb0   \n",
       "1  18955e83d337fd6b2def6b18a428ac77  290c77bc529b7ac935b93aa66c333dc3   \n",
       "2  4e7b3e00288586ebd08712fdd0374a03  060e732b5b29e8181a18229c7b0b2b5e   \n",
       "3  b2b6027bc5c5109e529d4dc6358b12c3  259dac757896d24d7702b9acbbff3f3c   \n",
       "4  4f2d8ab171c80ec8364f7c12e35b23ad  345ecd01c38d18a9036ed96c73b8d066   \n",
       "\n",
       "   customer_zip_code_prefix          customer_city customer_state  \\\n",
       "0                     14409                 franca             SP   \n",
       "1                      9790  sao bernardo do campo             SP   \n",
       "2                      1151              sao paulo             SP   \n",
       "3                      8775        mogi das cruzes             SP   \n",
       "4                     13056               campinas             SP   \n",
       "\n",
       "                           order_id order_status order_purchase_timestamp  \\\n",
       "0  00e7ee1b050b8499577073aeb2a297a1    delivered      2017-05-16 15:05:35   \n",
       "1  29150127e6685892b6eab3eec79f59c7    delivered      2018-01-12 20:48:24   \n",
       "2  b2059ed67ce144a36e2aa97d2c9e9ad2    delivered      2018-05-19 16:07:45   \n",
       "3  951670f92359f4fe4a63112aa7306eba    delivered      2018-03-13 16:06:38   \n",
       "4  6b7d50bd145f6fc7f33cebabd7e49d0f    delivered      2018-07-29 09:51:30   \n",
       "\n",
       "     order_approved_at order_delivered_carrier_date  \\\n",
       "0  2017-05-16 15:22:12          2017-05-23 10:47:57   \n",
       "1  2018-01-12 20:58:32          2018-01-15 17:14:59   \n",
       "2  2018-05-20 16:19:10          2018-06-11 14:31:00   \n",
       "3  2018-03-13 17:29:19          2018-03-27 23:22:42   \n",
       "4  2018-07-29 10:10:09          2018-07-30 15:16:00   \n",
       "\n",
       "  order_delivered_customer_date order_estimated_delivery_date  \n",
       "0           2017-05-25 10:35:35           2017-06-05 00:00:00  \n",
       "1           2018-01-29 12:41:19           2018-02-06 00:00:00  \n",
       "2           2018-06-14 17:58:51           2018-06-13 00:00:00  \n",
       "3           2018-03-28 16:04:25           2018-04-10 00:00:00  \n",
       "4           2018-08-09 20:55:48           2018-08-15 00:00:00  "
      ]
     },
     "execution_count": 32,
     "metadata": {},
     "output_type": "execute_result"
    }
   ],
   "source": [
    "customer_dataset = pd.read_csv('Data/customers_dataset.csv')\n",
    "order_dataset = pd.read_csv('Data/orders_dataset.csv')\n",
    "\n",
    "customer_order_df = pd.merge(\n",
    "    left=customer_dataset,\n",
    "    right=order_dataset,\n",
    "    how=\"inner\",\n",
    "    left_on=\"customer_id\",\n",
    "    right_on=\"customer_id\"\n",
    ")\n",
    "\n",
    "customer_order_df.head()"
   ]
  },
  {
   "cell_type": "markdown",
   "metadata": {
    "id": "FHSiqaZp8DC1"
   },
   "source": [
    "### Assessing Data"
   ]
  },
  {
   "cell_type": "code",
   "execution_count": 33,
   "metadata": {
    "colab": {
     "base_uri": "https://localhost:8080/"
    },
    "executionInfo": {
     "elapsed": 363,
     "status": "ok",
     "timestamp": 1702765678917,
     "user": {
      "displayName": "Agriansyah Ask",
      "userId": "01071083233405877854"
     },
     "user_tz": -420
    },
    "id": "ebxpZUG0nwcI",
    "outputId": "4d7f93ec-c920-4f38-8b3f-5b65efacb34f"
   },
   "outputs": [
    {
     "data": {
      "text/plain": [
       "(99441, 12)"
      ]
     },
     "execution_count": 33,
     "metadata": {},
     "output_type": "execute_result"
    }
   ],
   "source": [
    "#cek banyaknya baris dan kolom data\n",
    "customer_order_df.shape"
   ]
  },
  {
   "cell_type": "code",
   "execution_count": 34,
   "metadata": {
    "colab": {
     "base_uri": "https://localhost:8080/"
    },
    "executionInfo": {
     "elapsed": 4,
     "status": "ok",
     "timestamp": 1702765680461,
     "user": {
      "displayName": "Agriansyah Ask",
      "userId": "01071083233405877854"
     },
     "user_tz": -420
    },
    "id": "ls18gy8IRb51",
    "outputId": "ace3f415-8e61-4ab8-f6ea-d46eb9a7c34c"
   },
   "outputs": [
    {
     "data": {
      "text/plain": [
       "customer_id                      object\n",
       "customer_unique_id               object\n",
       "customer_zip_code_prefix          int64\n",
       "customer_city                    object\n",
       "customer_state                   object\n",
       "order_id                         object\n",
       "order_status                     object\n",
       "order_purchase_timestamp         object\n",
       "order_approved_at                object\n",
       "order_delivered_carrier_date     object\n",
       "order_delivered_customer_date    object\n",
       "order_estimated_delivery_date    object\n",
       "dtype: object"
      ]
     },
     "execution_count": 34,
     "metadata": {},
     "output_type": "execute_result"
    }
   ],
   "source": [
    "##Cek tipe data tiap kolom\n",
    "customer_order_df.dtypes"
   ]
  },
  {
   "cell_type": "code",
   "execution_count": 35,
   "metadata": {
    "colab": {
     "base_uri": "https://localhost:8080/",
     "height": 321
    },
    "executionInfo": {
     "elapsed": 341,
     "status": "error",
     "timestamp": 1702766187481,
     "user": {
      "displayName": "Agriansyah Ask",
      "userId": "01071083233405877854"
     },
     "user_tz": -420
    },
    "id": "8XgJjLqYsDQJ",
    "outputId": "5e249954-0b27-40c9-a576-16144bd4891e"
   },
   "outputs": [],
   "source": [
    "customer_order_df.drop([\"order_approved_at\",\"order_delivered_carrier_date\",\"order_delivered_customer_date\",\"order_estimated_delivery_date\"], axis=1, inplace=True)"
   ]
  },
  {
   "cell_type": "code",
   "execution_count": 36,
   "metadata": {
    "id": "rE-oBGt5p-D-"
   },
   "outputs": [],
   "source": [
    "#transform waktu pembelian ke tipe data waktu\n",
    "customer_order_df[\"order_purchase_timestamp\"] = customer_order_df[\"order_purchase_timestamp\"].apply(lambda x: np.datetime64(x))"
   ]
  },
  {
   "cell_type": "code",
   "execution_count": 37,
   "metadata": {
    "colab": {
     "base_uri": "https://localhost:8080/"
    },
    "executionInfo": {
     "elapsed": 4,
     "status": "ok",
     "timestamp": 1702765685975,
     "user": {
      "displayName": "Agriansyah Ask",
      "userId": "01071083233405877854"
     },
     "user_tz": -420
    },
    "id": "1B1mbDE8t-f8",
    "outputId": "2928686e-d856-47bc-fc9d-f902a272f4f3"
   },
   "outputs": [
    {
     "data": {
      "text/plain": [
       "customer_id                         object\n",
       "customer_unique_id                  object\n",
       "customer_zip_code_prefix             int64\n",
       "customer_city                       object\n",
       "customer_state                      object\n",
       "order_id                            object\n",
       "order_status                        object\n",
       "order_purchase_timestamp    datetime64[ns]\n",
       "dtype: object"
      ]
     },
     "execution_count": 37,
     "metadata": {},
     "output_type": "execute_result"
    }
   ],
   "source": [
    "##Cek tipe data timestamp setelah diubah\n",
    "customer_order_df.dtypes"
   ]
  },
  {
   "cell_type": "code",
   "execution_count": 38,
   "metadata": {
    "colab": {
     "base_uri": "https://localhost:8080/"
    },
    "executionInfo": {
     "elapsed": 477,
     "status": "ok",
     "timestamp": 1702765687852,
     "user": {
      "displayName": "Agriansyah Ask",
      "userId": "01071083233405877854"
     },
     "user_tz": -420
    },
    "id": "ax-3tEjc9Cj1",
    "outputId": "cbea88fd-4e69-464b-dfe2-035276fbefd3"
   },
   "outputs": [
    {
     "data": {
      "text/plain": [
       "customer_id                 0\n",
       "customer_unique_id          0\n",
       "customer_zip_code_prefix    0\n",
       "customer_city               0\n",
       "customer_state              0\n",
       "order_id                    0\n",
       "order_status                0\n",
       "order_purchase_timestamp    0\n",
       "dtype: int64"
      ]
     },
     "execution_count": 38,
     "metadata": {},
     "output_type": "execute_result"
    }
   ],
   "source": [
    "##Cek data null\n",
    "customer_order_df.isnull().sum()"
   ]
  },
  {
   "cell_type": "code",
   "execution_count": 39,
   "metadata": {
    "colab": {
     "base_uri": "https://localhost:8080/"
    },
    "executionInfo": {
     "elapsed": 5,
     "status": "ok",
     "timestamp": 1702765688978,
     "user": {
      "displayName": "Agriansyah Ask",
      "userId": "01071083233405877854"
     },
     "user_tz": -420
    },
    "id": "11A5lhatRXeL",
    "outputId": "05a32d49-657c-4b66-930b-b42440d4082b"
   },
   "outputs": [
    {
     "data": {
      "text/plain": [
       "0"
      ]
     },
     "execution_count": 39,
     "metadata": {},
     "output_type": "execute_result"
    }
   ],
   "source": [
    "##cek data duplikat\n",
    "customer_order_df.duplicated().sum()"
   ]
  },
  {
   "cell_type": "markdown",
   "metadata": {
    "id": "EhN5R4hr8DC1"
   },
   "source": [
    "### Cleaning Data"
   ]
  },
  {
   "cell_type": "code",
   "execution_count": 40,
   "metadata": {
    "id": "jVnYpprE9Evz"
   },
   "outputs": [],
   "source": [
    "customer_order_df = customer_order_df.loc[customer_order_df[\"order_purchase_timestamp\"] < \"2018-09-1\"]\n",
    "customer_order_df = customer_order_df.loc[customer_order_df[\"order_purchase_timestamp\"] > \"2016-12-31\"]"
   ]
  },
  {
   "cell_type": "code",
   "execution_count": 41,
   "metadata": {},
   "outputs": [],
   "source": [
    "customer_order_df.to_csv(r\"C:\\Kerja\\E-Commerce Dataset\\Submission\\Dashboard\\customer_order.csv\")"
   ]
  },
  {
   "cell_type": "markdown",
   "metadata": {
    "id": "gp-Y6wU38DC1"
   },
   "source": [
    "## Exploratory Data Analysis (EDA)"
   ]
  },
  {
   "cell_type": "markdown",
   "metadata": {
    "id": "MW7WF2kr8DC1"
   },
   "source": [
    "### Explore ..."
   ]
  },
  {
   "cell_type": "code",
   "execution_count": 42,
   "metadata": {
    "colab": {
     "base_uri": "https://localhost:8080/",
     "height": 512
    },
    "executionInfo": {
     "elapsed": 516,
     "status": "ok",
     "timestamp": 1702765693254,
     "user": {
      "displayName": "Agriansyah Ask",
      "userId": "01071083233405877854"
     },
     "user_tz": -420
    },
    "id": "e9CQCZjk8DC2",
    "outputId": "3169a4ed-53d5-42b5-f1b1-a1309fca70a7"
   },
   "outputs": [
    {
     "data": {
      "text/html": [
       "<div>\n",
       "<style scoped>\n",
       "    .dataframe tbody tr th:only-of-type {\n",
       "        vertical-align: middle;\n",
       "    }\n",
       "\n",
       "    .dataframe tbody tr th {\n",
       "        vertical-align: top;\n",
       "    }\n",
       "\n",
       "    .dataframe thead th {\n",
       "        text-align: right;\n",
       "    }\n",
       "</style>\n",
       "<table border=\"1\" class=\"dataframe\">\n",
       "  <thead>\n",
       "    <tr style=\"text-align: right;\">\n",
       "      <th></th>\n",
       "      <th>customer_id</th>\n",
       "      <th>customer_unique_id</th>\n",
       "      <th>customer_zip_code_prefix</th>\n",
       "      <th>customer_city</th>\n",
       "      <th>customer_state</th>\n",
       "      <th>order_id</th>\n",
       "      <th>order_status</th>\n",
       "      <th>order_purchase_timestamp</th>\n",
       "    </tr>\n",
       "  </thead>\n",
       "  <tbody>\n",
       "    <tr>\n",
       "      <th>count</th>\n",
       "      <td>99092</td>\n",
       "      <td>99092</td>\n",
       "      <td>99092.000000</td>\n",
       "      <td>99092</td>\n",
       "      <td>99092</td>\n",
       "      <td>99092</td>\n",
       "      <td>99092</td>\n",
       "      <td>99092</td>\n",
       "    </tr>\n",
       "    <tr>\n",
       "      <th>unique</th>\n",
       "      <td>99092</td>\n",
       "      <td>95774</td>\n",
       "      <td>NaN</td>\n",
       "      <td>4116</td>\n",
       "      <td>27</td>\n",
       "      <td>99092</td>\n",
       "      <td>8</td>\n",
       "      <td>NaN</td>\n",
       "    </tr>\n",
       "    <tr>\n",
       "      <th>top</th>\n",
       "      <td>06b8999e2fba1a1fbc88172c00ba8bc7</td>\n",
       "      <td>8d50f5eadf50201ccdcedfb9e2ac8455</td>\n",
       "      <td>NaN</td>\n",
       "      <td>sao paulo</td>\n",
       "      <td>SP</td>\n",
       "      <td>00e7ee1b050b8499577073aeb2a297a1</td>\n",
       "      <td>delivered</td>\n",
       "      <td>NaN</td>\n",
       "    </tr>\n",
       "    <tr>\n",
       "      <th>freq</th>\n",
       "      <td>1</td>\n",
       "      <td>17</td>\n",
       "      <td>NaN</td>\n",
       "      <td>15501</td>\n",
       "      <td>41621</td>\n",
       "      <td>1</td>\n",
       "      <td>96211</td>\n",
       "      <td>NaN</td>\n",
       "    </tr>\n",
       "    <tr>\n",
       "      <th>mean</th>\n",
       "      <td>NaN</td>\n",
       "      <td>NaN</td>\n",
       "      <td>35128.755702</td>\n",
       "      <td>NaN</td>\n",
       "      <td>NaN</td>\n",
       "      <td>NaN</td>\n",
       "      <td>NaN</td>\n",
       "      <td>2018-01-01 19:20:13.603842816</td>\n",
       "    </tr>\n",
       "    <tr>\n",
       "      <th>min</th>\n",
       "      <td>NaN</td>\n",
       "      <td>NaN</td>\n",
       "      <td>1003.000000</td>\n",
       "      <td>NaN</td>\n",
       "      <td>NaN</td>\n",
       "      <td>NaN</td>\n",
       "      <td>NaN</td>\n",
       "      <td>2017-01-05 11:56:06</td>\n",
       "    </tr>\n",
       "    <tr>\n",
       "      <th>25%</th>\n",
       "      <td>NaN</td>\n",
       "      <td>NaN</td>\n",
       "      <td>11335.000000</td>\n",
       "      <td>NaN</td>\n",
       "      <td>NaN</td>\n",
       "      <td>NaN</td>\n",
       "      <td>NaN</td>\n",
       "      <td>2017-09-13 17:28:50</td>\n",
       "    </tr>\n",
       "    <tr>\n",
       "      <th>50%</th>\n",
       "      <td>NaN</td>\n",
       "      <td>NaN</td>\n",
       "      <td>24415.000000</td>\n",
       "      <td>NaN</td>\n",
       "      <td>NaN</td>\n",
       "      <td>NaN</td>\n",
       "      <td>NaN</td>\n",
       "      <td>2018-01-19 16:01:26</td>\n",
       "    </tr>\n",
       "    <tr>\n",
       "      <th>75%</th>\n",
       "      <td>NaN</td>\n",
       "      <td>NaN</td>\n",
       "      <td>58865.000000</td>\n",
       "      <td>NaN</td>\n",
       "      <td>NaN</td>\n",
       "      <td>NaN</td>\n",
       "      <td>NaN</td>\n",
       "      <td>2018-05-04 19:53:33.249999872</td>\n",
       "    </tr>\n",
       "    <tr>\n",
       "      <th>max</th>\n",
       "      <td>NaN</td>\n",
       "      <td>NaN</td>\n",
       "      <td>99990.000000</td>\n",
       "      <td>NaN</td>\n",
       "      <td>NaN</td>\n",
       "      <td>NaN</td>\n",
       "      <td>NaN</td>\n",
       "      <td>2018-08-31 16:13:44</td>\n",
       "    </tr>\n",
       "    <tr>\n",
       "      <th>std</th>\n",
       "      <td>NaN</td>\n",
       "      <td>NaN</td>\n",
       "      <td>29796.342147</td>\n",
       "      <td>NaN</td>\n",
       "      <td>NaN</td>\n",
       "      <td>NaN</td>\n",
       "      <td>NaN</td>\n",
       "      <td>NaN</td>\n",
       "    </tr>\n",
       "  </tbody>\n",
       "</table>\n",
       "</div>"
      ],
      "text/plain": [
       "                             customer_id                customer_unique_id  \\\n",
       "count                              99092                             99092   \n",
       "unique                             99092                             95774   \n",
       "top     06b8999e2fba1a1fbc88172c00ba8bc7  8d50f5eadf50201ccdcedfb9e2ac8455   \n",
       "freq                                   1                                17   \n",
       "mean                                 NaN                               NaN   \n",
       "min                                  NaN                               NaN   \n",
       "25%                                  NaN                               NaN   \n",
       "50%                                  NaN                               NaN   \n",
       "75%                                  NaN                               NaN   \n",
       "max                                  NaN                               NaN   \n",
       "std                                  NaN                               NaN   \n",
       "\n",
       "        customer_zip_code_prefix customer_city customer_state  \\\n",
       "count               99092.000000         99092          99092   \n",
       "unique                       NaN          4116             27   \n",
       "top                          NaN     sao paulo             SP   \n",
       "freq                         NaN         15501          41621   \n",
       "mean                35128.755702           NaN            NaN   \n",
       "min                  1003.000000           NaN            NaN   \n",
       "25%                 11335.000000           NaN            NaN   \n",
       "50%                 24415.000000           NaN            NaN   \n",
       "75%                 58865.000000           NaN            NaN   \n",
       "max                 99990.000000           NaN            NaN   \n",
       "std                 29796.342147           NaN            NaN   \n",
       "\n",
       "                                order_id order_status  \\\n",
       "count                              99092        99092   \n",
       "unique                             99092            8   \n",
       "top     00e7ee1b050b8499577073aeb2a297a1    delivered   \n",
       "freq                                   1        96211   \n",
       "mean                                 NaN          NaN   \n",
       "min                                  NaN          NaN   \n",
       "25%                                  NaN          NaN   \n",
       "50%                                  NaN          NaN   \n",
       "75%                                  NaN          NaN   \n",
       "max                                  NaN          NaN   \n",
       "std                                  NaN          NaN   \n",
       "\n",
       "             order_purchase_timestamp  \n",
       "count                           99092  \n",
       "unique                            NaN  \n",
       "top                               NaN  \n",
       "freq                              NaN  \n",
       "mean    2018-01-01 19:20:13.603842816  \n",
       "min               2017-01-05 11:56:06  \n",
       "25%               2017-09-13 17:28:50  \n",
       "50%               2018-01-19 16:01:26  \n",
       "75%     2018-05-04 19:53:33.249999872  \n",
       "max               2018-08-31 16:13:44  \n",
       "std                               NaN  "
      ]
     },
     "execution_count": 42,
     "metadata": {},
     "output_type": "execute_result"
    }
   ],
   "source": [
    "customer_order_df.describe(include=\"all\")"
   ]
  },
  {
   "cell_type": "markdown",
   "metadata": {
    "id": "zsyZjqak8DC2"
   },
   "source": [
    "## Visualization & Explanatory Analysis"
   ]
  },
  {
   "cell_type": "markdown",
   "metadata": {
    "id": "HZxOiQ6n8DC2"
   },
   "source": [
    "### Pertanyaan 1:"
   ]
  },
  {
   "cell_type": "code",
   "execution_count": 52,
   "metadata": {
    "colab": {
     "base_uri": "https://localhost:8080/"
    },
    "executionInfo": {
     "elapsed": 346,
     "status": "ok",
     "timestamp": 1702765697682,
     "user": {
      "displayName": "Agriansyah Ask",
      "userId": "01071083233405877854"
     },
     "user_tz": -420
    },
    "id": "euPOQHQ7foEt",
    "outputId": "0a824a86-d126-409b-8ce1-98dde2448e95"
   },
   "outputs": [
    {
     "data": {
      "text/plain": [
       "order_purchase_timestamp\n",
       "2017-01-31     800\n",
       "2017-02-28    1780\n",
       "2017-03-31    2682\n",
       "2017-04-30    2404\n",
       "2017-05-31    3700\n",
       "2017-06-30    3245\n",
       "2017-07-31    4026\n",
       "2017-08-31    4331\n",
       "2017-09-30    4285\n",
       "2017-10-31    4631\n",
       "2017-11-30    7544\n",
       "2017-12-31    5673\n",
       "2018-01-31    7269\n",
       "2018-02-28    6728\n",
       "2018-03-31    7211\n",
       "2018-04-30    6939\n",
       "2018-05-31    6873\n",
       "2018-06-30    6167\n",
       "2018-07-31    6292\n",
       "2018-08-31    6512\n",
       "Freq: M, Name: order_id, dtype: int64"
      ]
     },
     "execution_count": 52,
     "metadata": {},
     "output_type": "execute_result"
    }
   ],
   "source": [
    "#pembuatan tabel monthly orders\n",
    "monthly_orders_df = customer_order_df.set_index(\"order_purchase_timestamp\")[\"order_id\"].resample(\"M\").nunique()\n",
    "monthly_orders_df"
   ]
  },
  {
   "cell_type": "code",
   "execution_count": 45,
   "metadata": {
    "colab": {
     "base_uri": "https://localhost:8080/",
     "height": 665
    },
    "executionInfo": {
     "elapsed": 984,
     "status": "ok",
     "timestamp": 1702765709158,
     "user": {
      "displayName": "Agriansyah Ask",
      "userId": "01071083233405877854"
     },
     "user_tz": -420
    },
    "id": "1swJUdAD8DC2",
    "outputId": "b7018e73-f133-43d0-c02d-92575c7da725"
   },
   "outputs": [
    {
     "data": {
      "image/png": "[encoded data removed]",
      "text/plain": [
       "<Figure size 1000x700 with 1 Axes>"
      ]
     },
     "metadata": {},
     "output_type": "display_data"
    }
   ],
   "source": [
    "#visualisasi data orders per bulan\n",
    "ax = pd.DataFrame(monthly_orders_df.values).plot(\n",
    "    grid = True,\n",
    "    figsize = (10,7),\n",
    "    legend = False\n",
    ")\n",
    "\n",
    "ax.set_xlabel(\"date\")\n",
    "ax.set_ylabel(\"number of orders/invoice\")\n",
    "ax.set_title(\"Total Invoice/Order Over Time\")\n",
    "\n",
    "plt.xticks(\n",
    "    range(len(monthly_orders_df.index)),\n",
    "    [x.strftime(\"%m.%y\") for x in monthly_orders_df.index],\n",
    "    rotation = 45\n",
    ")\n",
    "\n",
    "plt.show()"
   ]
  },
  {
   "cell_type": "markdown",
   "metadata": {
    "id": "DgHI7CiU8DC2"
   },
   "source": [
    "### Pertanyaan 2:"
   ]
  },
  {
   "cell_type": "code",
   "execution_count": 46,
   "metadata": {
    "colab": {
     "base_uri": "https://localhost:8080/",
     "height": 455
    },
    "executionInfo": {
     "elapsed": 951,
     "status": "ok",
     "timestamp": 1702763397148,
     "user": {
      "displayName": "Agriansyah Ask",
      "userId": "01071083233405877854"
     },
     "user_tz": -420
    },
    "id": "Go0lCsvO8DC2",
    "outputId": "2036def5-be35-47d9-9d6c-593c9c3bd4d4"
   },
   "outputs": [
    {
     "data": {
      "text/html": [
       "<div>\n",
       "<style scoped>\n",
       "    .dataframe tbody tr th:only-of-type {\n",
       "        vertical-align: middle;\n",
       "    }\n",
       "\n",
       "    .dataframe tbody tr th {\n",
       "        vertical-align: top;\n",
       "    }\n",
       "\n",
       "    .dataframe thead th {\n",
       "        text-align: right;\n",
       "    }\n",
       "</style>\n",
       "<table border=\"1\" class=\"dataframe\">\n",
       "  <thead>\n",
       "    <tr style=\"text-align: right;\">\n",
       "      <th></th>\n",
       "      <th></th>\n",
       "      <th>order_id</th>\n",
       "    </tr>\n",
       "    <tr>\n",
       "      <th>order_purchase_timestamp</th>\n",
       "      <th>customer_state</th>\n",
       "      <th></th>\n",
       "    </tr>\n",
       "  </thead>\n",
       "  <tbody>\n",
       "    <tr>\n",
       "      <th rowspan=\"5\" valign=\"top\">2017-01-31</th>\n",
       "      <th>AC</th>\n",
       "      <td>2</td>\n",
       "    </tr>\n",
       "    <tr>\n",
       "      <th>AL</th>\n",
       "      <td>2</td>\n",
       "    </tr>\n",
       "    <tr>\n",
       "      <th>BA</th>\n",
       "      <td>25</td>\n",
       "    </tr>\n",
       "    <tr>\n",
       "      <th>CE</th>\n",
       "      <td>9</td>\n",
       "    </tr>\n",
       "    <tr>\n",
       "      <th>DF</th>\n",
       "      <td>13</td>\n",
       "    </tr>\n",
       "    <tr>\n",
       "      <th>...</th>\n",
       "      <th>...</th>\n",
       "      <td>...</td>\n",
       "    </tr>\n",
       "    <tr>\n",
       "      <th rowspan=\"5\" valign=\"top\">2018-08-31</th>\n",
       "      <th>RS</th>\n",
       "      <td>300</td>\n",
       "    </tr>\n",
       "    <tr>\n",
       "      <th>SC</th>\n",
       "      <td>206</td>\n",
       "    </tr>\n",
       "    <tr>\n",
       "      <th>SE</th>\n",
       "      <td>23</td>\n",
       "    </tr>\n",
       "    <tr>\n",
       "      <th>SP</th>\n",
       "      <td>3253</td>\n",
       "    </tr>\n",
       "    <tr>\n",
       "      <th>TO</th>\n",
       "      <td>13</td>\n",
       "    </tr>\n",
       "  </tbody>\n",
       "</table>\n",
       "<p>533 rows × 1 columns</p>\n",
       "</div>"
      ],
      "text/plain": [
       "                                         order_id\n",
       "order_purchase_timestamp customer_state          \n",
       "2017-01-31               AC                     2\n",
       "                         AL                     2\n",
       "                         BA                    25\n",
       "                         CE                     9\n",
       "                         DF                    13\n",
       "...                                           ...\n",
       "2018-08-31               RS                   300\n",
       "                         SC                   206\n",
       "                         SE                    23\n",
       "                         SP                  3253\n",
       "                         TO                    13\n",
       "\n",
       "[533 rows x 1 columns]"
      ]
     },
     "execution_count": 46,
     "metadata": {},
     "output_type": "execute_result"
    }
   ],
   "source": [
    "#pembuatan tabel monthly orders by state\n",
    "customer_state_df = pd.DataFrame(\n",
    "    customer_order_df.set_index(\"order_purchase_timestamp\").groupby([\n",
    "        pd.Grouper(freq=\"M\"), \"customer_state\"\n",
    "    ])[\"order_id\"].count()\n",
    ")\n",
    "\n",
    "customer_state_df"
   ]
  },
  {
   "cell_type": "code",
   "execution_count": 47,
   "metadata": {
    "colab": {
     "base_uri": "https://localhost:8080/",
     "height": 865
    },
    "executionInfo": {
     "elapsed": 365,
     "status": "ok",
     "timestamp": 1702765726433,
     "user": {
      "displayName": "Agriansyah Ask",
      "userId": "01071083233405877854"
     },
     "user_tz": -420
    },
    "id": "se-7QL7-n1h6",
    "outputId": "04021c76-6477-4eca-af15-b993be07f64b"
   },
   "outputs": [
    {
     "data": {
      "text/html": [
       "<div>\n",
       "<style scoped>\n",
       "    .dataframe tbody tr th:only-of-type {\n",
       "        vertical-align: middle;\n",
       "    }\n",
       "\n",
       "    .dataframe tbody tr th {\n",
       "        vertical-align: top;\n",
       "    }\n",
       "\n",
       "    .dataframe thead th {\n",
       "        text-align: right;\n",
       "    }\n",
       "</style>\n",
       "<table border=\"1\" class=\"dataframe\">\n",
       "  <thead>\n",
       "    <tr style=\"text-align: right;\">\n",
       "      <th></th>\n",
       "      <th>customer_state</th>\n",
       "      <th>order_id</th>\n",
       "    </tr>\n",
       "  </thead>\n",
       "  <tbody>\n",
       "    <tr>\n",
       "      <th>0</th>\n",
       "      <td>SP</td>\n",
       "      <td>3253</td>\n",
       "    </tr>\n",
       "    <tr>\n",
       "      <th>1</th>\n",
       "      <td>RJ</td>\n",
       "      <td>745</td>\n",
       "    </tr>\n",
       "    <tr>\n",
       "      <th>2</th>\n",
       "      <td>MG</td>\n",
       "      <td>708</td>\n",
       "    </tr>\n",
       "    <tr>\n",
       "      <th>3</th>\n",
       "      <td>PR</td>\n",
       "      <td>333</td>\n",
       "    </tr>\n",
       "    <tr>\n",
       "      <th>4</th>\n",
       "      <td>RS</td>\n",
       "      <td>300</td>\n",
       "    </tr>\n",
       "    <tr>\n",
       "      <th>5</th>\n",
       "      <td>SC</td>\n",
       "      <td>206</td>\n",
       "    </tr>\n",
       "    <tr>\n",
       "      <th>6</th>\n",
       "      <td>BA</td>\n",
       "      <td>165</td>\n",
       "    </tr>\n",
       "    <tr>\n",
       "      <th>7</th>\n",
       "      <td>DF</td>\n",
       "      <td>145</td>\n",
       "    </tr>\n",
       "    <tr>\n",
       "      <th>8</th>\n",
       "      <td>GO</td>\n",
       "      <td>120</td>\n",
       "    </tr>\n",
       "    <tr>\n",
       "      <th>9</th>\n",
       "      <td>ES</td>\n",
       "      <td>105</td>\n",
       "    </tr>\n",
       "    <tr>\n",
       "      <th>10</th>\n",
       "      <td>PE</td>\n",
       "      <td>85</td>\n",
       "    </tr>\n",
       "    <tr>\n",
       "      <th>11</th>\n",
       "      <td>CE</td>\n",
       "      <td>57</td>\n",
       "    </tr>\n",
       "    <tr>\n",
       "      <th>12</th>\n",
       "      <td>PA</td>\n",
       "      <td>44</td>\n",
       "    </tr>\n",
       "    <tr>\n",
       "      <th>13</th>\n",
       "      <td>MT</td>\n",
       "      <td>40</td>\n",
       "    </tr>\n",
       "    <tr>\n",
       "      <th>14</th>\n",
       "      <td>MS</td>\n",
       "      <td>35</td>\n",
       "    </tr>\n",
       "    <tr>\n",
       "      <th>15</th>\n",
       "      <td>MA</td>\n",
       "      <td>30</td>\n",
       "    </tr>\n",
       "    <tr>\n",
       "      <th>16</th>\n",
       "      <td>PB</td>\n",
       "      <td>30</td>\n",
       "    </tr>\n",
       "    <tr>\n",
       "      <th>17</th>\n",
       "      <td>SE</td>\n",
       "      <td>23</td>\n",
       "    </tr>\n",
       "    <tr>\n",
       "      <th>18</th>\n",
       "      <td>PI</td>\n",
       "      <td>21</td>\n",
       "    </tr>\n",
       "    <tr>\n",
       "      <th>19</th>\n",
       "      <td>RN</td>\n",
       "      <td>20</td>\n",
       "    </tr>\n",
       "    <tr>\n",
       "      <th>20</th>\n",
       "      <td>AL</td>\n",
       "      <td>16</td>\n",
       "    </tr>\n",
       "    <tr>\n",
       "      <th>21</th>\n",
       "      <td>TO</td>\n",
       "      <td>13</td>\n",
       "    </tr>\n",
       "    <tr>\n",
       "      <th>22</th>\n",
       "      <td>RO</td>\n",
       "      <td>9</td>\n",
       "    </tr>\n",
       "    <tr>\n",
       "      <th>23</th>\n",
       "      <td>AM</td>\n",
       "      <td>4</td>\n",
       "    </tr>\n",
       "    <tr>\n",
       "      <th>24</th>\n",
       "      <td>AC</td>\n",
       "      <td>3</td>\n",
       "    </tr>\n",
       "    <tr>\n",
       "      <th>25</th>\n",
       "      <td>AP</td>\n",
       "      <td>2</td>\n",
       "    </tr>\n",
       "  </tbody>\n",
       "</table>\n",
       "</div>"
      ],
      "text/plain": [
       "   customer_state  order_id\n",
       "0              SP      3253\n",
       "1              RJ       745\n",
       "2              MG       708\n",
       "3              PR       333\n",
       "4              RS       300\n",
       "5              SC       206\n",
       "6              BA       165\n",
       "7              DF       145\n",
       "8              GO       120\n",
       "9              ES       105\n",
       "10             PE        85\n",
       "11             CE        57\n",
       "12             PA        44\n",
       "13             MT        40\n",
       "14             MS        35\n",
       "15             MA        30\n",
       "16             PB        30\n",
       "17             SE        23\n",
       "18             PI        21\n",
       "19             RN        20\n",
       "20             AL        16\n",
       "21             TO        13\n",
       "22             RO         9\n",
       "23             AM         4\n",
       "24             AC         3\n",
       "25             AP         2"
      ]
     },
     "execution_count": 47,
     "metadata": {},
     "output_type": "execute_result"
    }
   ],
   "source": [
    "#mencari 5 negara teratas berdasarkan invoice/orders terbanyak di periode terakhir\n",
    "last_month_customer_state_df = customer_state_df.loc[\"2018-08-31\"].sort_values(\n",
    "    by=\"order_id\", ascending=False\n",
    ").reset_index()\n",
    "\n",
    "last_month_customer_state_df"
   ]
  },
  {
   "cell_type": "code",
   "execution_count": 61,
   "metadata": {
    "colab": {
     "base_uri": "https://localhost:8080/",
     "height": 455
    },
    "executionInfo": {
     "elapsed": 355,
     "status": "ok",
     "timestamp": 1702765730165,
     "user": {
      "displayName": "Agriansyah Ask",
      "userId": "01071083233405877854"
     },
     "user_tz": -420
    },
    "id": "txAQM3w6nZzc",
    "outputId": "607df51e-9e49-4680-eba9-2ecfd2eeacb5"
   },
   "outputs": [
    {
     "data": {
      "text/html": [
       "<div>\n",
       "<style scoped>\n",
       "    .dataframe tbody tr th:only-of-type {\n",
       "        vertical-align: middle;\n",
       "    }\n",
       "\n",
       "    .dataframe tbody tr th {\n",
       "        vertical-align: top;\n",
       "    }\n",
       "\n",
       "    .dataframe thead th {\n",
       "        text-align: right;\n",
       "    }\n",
       "</style>\n",
       "<table border=\"1\" class=\"dataframe\">\n",
       "  <thead>\n",
       "    <tr style=\"text-align: right;\">\n",
       "      <th></th>\n",
       "      <th></th>\n",
       "      <th>order_id</th>\n",
       "    </tr>\n",
       "    <tr>\n",
       "      <th>order_purchase_timestamp</th>\n",
       "      <th>customer_state</th>\n",
       "      <th></th>\n",
       "    </tr>\n",
       "  </thead>\n",
       "  <tbody>\n",
       "    <tr>\n",
       "      <th rowspan=\"5\" valign=\"top\">2017-01-31</th>\n",
       "      <th>MG</th>\n",
       "      <td>108</td>\n",
       "    </tr>\n",
       "    <tr>\n",
       "      <th>PR</th>\n",
       "      <td>65</td>\n",
       "    </tr>\n",
       "    <tr>\n",
       "      <th>RJ</th>\n",
       "      <td>97</td>\n",
       "    </tr>\n",
       "    <tr>\n",
       "      <th>RS</th>\n",
       "      <td>54</td>\n",
       "    </tr>\n",
       "    <tr>\n",
       "      <th>SP</th>\n",
       "      <td>299</td>\n",
       "    </tr>\n",
       "    <tr>\n",
       "      <th>...</th>\n",
       "      <th>...</th>\n",
       "      <td>...</td>\n",
       "    </tr>\n",
       "    <tr>\n",
       "      <th rowspan=\"5\" valign=\"top\">2018-08-31</th>\n",
       "      <th>MG</th>\n",
       "      <td>708</td>\n",
       "    </tr>\n",
       "    <tr>\n",
       "      <th>PR</th>\n",
       "      <td>333</td>\n",
       "    </tr>\n",
       "    <tr>\n",
       "      <th>RJ</th>\n",
       "      <td>745</td>\n",
       "    </tr>\n",
       "    <tr>\n",
       "      <th>RS</th>\n",
       "      <td>300</td>\n",
       "    </tr>\n",
       "    <tr>\n",
       "      <th>SP</th>\n",
       "      <td>3253</td>\n",
       "    </tr>\n",
       "  </tbody>\n",
       "</table>\n",
       "<p>100 rows × 1 columns</p>\n",
       "</div>"
      ],
      "text/plain": [
       "                                         order_id\n",
       "order_purchase_timestamp customer_state          \n",
       "2017-01-31               MG                   108\n",
       "                         PR                    65\n",
       "                         RJ                    97\n",
       "                         RS                    54\n",
       "                         SP                   299\n",
       "...                                           ...\n",
       "2018-08-31               MG                   708\n",
       "                         PR                   333\n",
       "                         RJ                   745\n",
       "                         RS                   300\n",
       "                         SP                  3253\n",
       "\n",
       "[100 rows x 1 columns]"
      ]
     },
     "execution_count": 61,
     "metadata": {},
     "output_type": "execute_result"
    }
   ],
   "source": [
    "#group 5 negara teratas berdasarkan invoice/orders terbanyak\n",
    "state_order_df = pd.DataFrame(\n",
    "    customer_order_df.loc[\n",
    "        customer_order_df[\"customer_state\"].isin([\"SP\",\"RJ\",\"MG\",\"PR\",\"RS\"])\n",
    "    ].set_index(\"order_purchase_timestamp\").groupby([\n",
    "        pd.Grouper(freq=\"M\"), \"customer_state\"\n",
    "    ])[\"order_id\"].count()\n",
    ")\n",
    "\n",
    "state_order_df"
   ]
  },
  {
   "cell_type": "code",
   "execution_count": 62,
   "metadata": {
    "colab": {
     "base_uri": "https://localhost:8080/",
     "height": 837
    },
    "executionInfo": {
     "elapsed": 361,
     "status": "ok",
     "timestamp": 1702765734152,
     "user": {
      "displayName": "Agriansyah Ask",
      "userId": "01071083233405877854"
     },
     "user_tz": -420
    },
    "id": "tyNFxt3Xs3-8",
    "outputId": "def1b072-3dbb-4af4-a9b7-e316356b3828"
   },
   "outputs": [
    {
     "data": {
      "text/html": [
       "<div>\n",
       "<style scoped>\n",
       "    .dataframe tbody tr th:only-of-type {\n",
       "        vertical-align: middle;\n",
       "    }\n",
       "\n",
       "    .dataframe tbody tr th {\n",
       "        vertical-align: top;\n",
       "    }\n",
       "\n",
       "    .dataframe thead th {\n",
       "        text-align: right;\n",
       "    }\n",
       "</style>\n",
       "<table border=\"1\" class=\"dataframe\">\n",
       "  <thead>\n",
       "    <tr style=\"text-align: right;\">\n",
       "      <th>customer_state</th>\n",
       "      <th>MG</th>\n",
       "      <th>PR</th>\n",
       "      <th>RJ</th>\n",
       "      <th>RS</th>\n",
       "      <th>SP</th>\n",
       "    </tr>\n",
       "    <tr>\n",
       "      <th>order_purchase_timestamp</th>\n",
       "      <th></th>\n",
       "      <th></th>\n",
       "      <th></th>\n",
       "      <th></th>\n",
       "      <th></th>\n",
       "    </tr>\n",
       "  </thead>\n",
       "  <tbody>\n",
       "    <tr>\n",
       "      <th>2017-01-31</th>\n",
       "      <td>108</td>\n",
       "      <td>65</td>\n",
       "      <td>97</td>\n",
       "      <td>54</td>\n",
       "      <td>299</td>\n",
       "    </tr>\n",
       "    <tr>\n",
       "      <th>2017-02-28</th>\n",
       "      <td>259</td>\n",
       "      <td>118</td>\n",
       "      <td>254</td>\n",
       "      <td>105</td>\n",
       "      <td>654</td>\n",
       "    </tr>\n",
       "    <tr>\n",
       "      <th>2017-03-31</th>\n",
       "      <td>358</td>\n",
       "      <td>127</td>\n",
       "      <td>395</td>\n",
       "      <td>151</td>\n",
       "      <td>1010</td>\n",
       "    </tr>\n",
       "    <tr>\n",
       "      <th>2017-04-30</th>\n",
       "      <td>275</td>\n",
       "      <td>114</td>\n",
       "      <td>338</td>\n",
       "      <td>139</td>\n",
       "      <td>908</td>\n",
       "    </tr>\n",
       "    <tr>\n",
       "      <th>2017-05-31</th>\n",
       "      <td>428</td>\n",
       "      <td>213</td>\n",
       "      <td>488</td>\n",
       "      <td>208</td>\n",
       "      <td>1425</td>\n",
       "    </tr>\n",
       "    <tr>\n",
       "      <th>2017-06-30</th>\n",
       "      <td>363</td>\n",
       "      <td>170</td>\n",
       "      <td>412</td>\n",
       "      <td>221</td>\n",
       "      <td>1331</td>\n",
       "    </tr>\n",
       "    <tr>\n",
       "      <th>2017-07-31</th>\n",
       "      <td>453</td>\n",
       "      <td>203</td>\n",
       "      <td>571</td>\n",
       "      <td>249</td>\n",
       "      <td>1604</td>\n",
       "    </tr>\n",
       "    <tr>\n",
       "      <th>2017-08-31</th>\n",
       "      <td>469</td>\n",
       "      <td>223</td>\n",
       "      <td>562</td>\n",
       "      <td>299</td>\n",
       "      <td>1729</td>\n",
       "    </tr>\n",
       "    <tr>\n",
       "      <th>2017-09-30</th>\n",
       "      <td>507</td>\n",
       "      <td>183</td>\n",
       "      <td>609</td>\n",
       "      <td>278</td>\n",
       "      <td>1638</td>\n",
       "    </tr>\n",
       "    <tr>\n",
       "      <th>2017-10-31</th>\n",
       "      <td>560</td>\n",
       "      <td>206</td>\n",
       "      <td>668</td>\n",
       "      <td>252</td>\n",
       "      <td>1793</td>\n",
       "    </tr>\n",
       "    <tr>\n",
       "      <th>2017-11-30</th>\n",
       "      <td>943</td>\n",
       "      <td>378</td>\n",
       "      <td>1048</td>\n",
       "      <td>422</td>\n",
       "      <td>3012</td>\n",
       "    </tr>\n",
       "    <tr>\n",
       "      <th>2017-12-31</th>\n",
       "      <td>691</td>\n",
       "      <td>270</td>\n",
       "      <td>783</td>\n",
       "      <td>283</td>\n",
       "      <td>2357</td>\n",
       "    </tr>\n",
       "    <tr>\n",
       "      <th>2018-01-31</th>\n",
       "      <td>863</td>\n",
       "      <td>378</td>\n",
       "      <td>893</td>\n",
       "      <td>373</td>\n",
       "      <td>3052</td>\n",
       "    </tr>\n",
       "    <tr>\n",
       "      <th>2018-02-28</th>\n",
       "      <td>804</td>\n",
       "      <td>342</td>\n",
       "      <td>922</td>\n",
       "      <td>368</td>\n",
       "      <td>2703</td>\n",
       "    </tr>\n",
       "    <tr>\n",
       "      <th>2018-03-31</th>\n",
       "      <td>879</td>\n",
       "      <td>377</td>\n",
       "      <td>907</td>\n",
       "      <td>418</td>\n",
       "      <td>3037</td>\n",
       "    </tr>\n",
       "    <tr>\n",
       "      <th>2018-04-30</th>\n",
       "      <td>786</td>\n",
       "      <td>386</td>\n",
       "      <td>834</td>\n",
       "      <td>349</td>\n",
       "      <td>3059</td>\n",
       "    </tr>\n",
       "    <tr>\n",
       "      <th>2018-05-31</th>\n",
       "      <td>762</td>\n",
       "      <td>311</td>\n",
       "      <td>833</td>\n",
       "      <td>351</td>\n",
       "      <td>3207</td>\n",
       "    </tr>\n",
       "    <tr>\n",
       "      <th>2018-06-30</th>\n",
       "      <td>717</td>\n",
       "      <td>308</td>\n",
       "      <td>716</td>\n",
       "      <td>305</td>\n",
       "      <td>2773</td>\n",
       "    </tr>\n",
       "    <tr>\n",
       "      <th>2018-07-31</th>\n",
       "      <td>658</td>\n",
       "      <td>320</td>\n",
       "      <td>717</td>\n",
       "      <td>316</td>\n",
       "      <td>2777</td>\n",
       "    </tr>\n",
       "    <tr>\n",
       "      <th>2018-08-31</th>\n",
       "      <td>708</td>\n",
       "      <td>333</td>\n",
       "      <td>745</td>\n",
       "      <td>300</td>\n",
       "      <td>3253</td>\n",
       "    </tr>\n",
       "  </tbody>\n",
       "</table>\n",
       "</div>"
      ],
      "text/plain": [
       "customer_state             MG   PR    RJ   RS    SP\n",
       "order_purchase_timestamp                           \n",
       "2017-01-31                108   65    97   54   299\n",
       "2017-02-28                259  118   254  105   654\n",
       "2017-03-31                358  127   395  151  1010\n",
       "2017-04-30                275  114   338  139   908\n",
       "2017-05-31                428  213   488  208  1425\n",
       "2017-06-30                363  170   412  221  1331\n",
       "2017-07-31                453  203   571  249  1604\n",
       "2017-08-31                469  223   562  299  1729\n",
       "2017-09-30                507  183   609  278  1638\n",
       "2017-10-31                560  206   668  252  1793\n",
       "2017-11-30                943  378  1048  422  3012\n",
       "2017-12-31                691  270   783  283  2357\n",
       "2018-01-31                863  378   893  373  3052\n",
       "2018-02-28                804  342   922  368  2703\n",
       "2018-03-31                879  377   907  418  3037\n",
       "2018-04-30                786  386   834  349  3059\n",
       "2018-05-31                762  311   833  351  3207\n",
       "2018-06-30                717  308   716  305  2773\n",
       "2018-07-31                658  320   717  316  2777\n",
       "2018-08-31                708  333   745  300  3253"
      ]
     },
     "execution_count": 62,
     "metadata": {},
     "output_type": "execute_result"
    }
   ],
   "source": [
    "#transpose tabel\n",
    "trending_state_df = state_order_df.reset_index().pivot(index=\"order_purchase_timestamp\", columns=\"customer_state\").fillna(0)\n",
    "\n",
    "trending_state_df = trending_state_df.reset_index()\n",
    "trending_state_df = trending_state_df.set_index(\"order_purchase_timestamp\")\n",
    "trending_state_df.columns = trending_state_df.columns.droplevel(0)\n",
    "\n",
    "trending_state_df"
   ]
  },
  {
   "cell_type": "code",
   "execution_count": 63,
   "metadata": {
    "colab": {
     "base_uri": "https://localhost:8080/",
     "height": 665
    },
    "executionInfo": {
     "elapsed": 817,
     "status": "ok",
     "timestamp": 1702765737807,
     "user": {
      "displayName": "Agriansyah Ask",
      "userId": "01071083233405877854"
     },
     "user_tz": -420
    },
    "id": "UVeEmQcluYv-",
    "outputId": "80a5e80d-61ba-4979-ee53-90c4e8b5cc1c"
   },
   "outputs": [
    {
     "data": {
      "image/png": "[encoded data removed]",
      "text/plain": [
       "<Figure size 1000x700 with 1 Axes>"
      ]
     },
     "metadata": {},
     "output_type": "display_data"
    }
   ],
   "source": [
    "#visualisasi data orders per bulan\n",
    "ax = pd.DataFrame(trending_state_df.values).plot(\n",
    "    grid = True,\n",
    "    figsize = (10,7),\n",
    "    legend = False\n",
    ")\n",
    "\n",
    "ax.set_xlabel(\"date\")\n",
    "ax.set_ylabel(\"number of orders/invoice\")\n",
    "ax.set_title(\"Total Number of Orders Over Time by State\")\n",
    "\n",
    "ax.legend(trending_state_df.columns, loc=\"upper left\")\n",
    "\n",
    "plt.xticks(\n",
    "    range(len(trending_state_df.index)),\n",
    "    [x.strftime(\"%m.%y\") for x in trending_state_df.index],\n",
    "    rotation = 45\n",
    ")\n",
    "\n",
    "plt.show()"
   ]
  },
  {
   "cell_type": "markdown",
   "metadata": {
    "id": "_WeHlCeX8DC2"
   },
   "source": [
    "## Conclusion"
   ]
  },
  {
   "cell_type": "markdown",
   "metadata": {
    "id": "ZTcyR48Y8DC2"
   },
   "source": [
    "- Jumlah orders/invoice tiap bulan secara umum mengalami peningkatan dengan invoice terbanyak jatuh pada bulan November 2017\n",
    "- Ada 5 negara yang menjadi basis pelanggan terbanyak perusahaan ini secara berurutan yaitu SP, RJ, MG, RS dan PR. Negara SP menjadi negara dengan basis pelanggan terbanyak perusahaan ini dengan perbedaan yang signifikan dibandingkan negara lainnya sehingga kegiatan pemasaran dan operasional perusahaan pada negara SP menjadi concern utama dibandingkan negara lainnya"
   ]
  }
 ],
 "metadata": {
  "colab": {
   "provenance": [
    {
     "file_id": "1ug4Ox4qIFDSo1koFA0XiNJE-ce12rECy",
     "timestamp": 1702588983953
    }
   ],
   "toc_visible": true
  },
  "kernelspec": {
   "display_name": "Python 3 (ipykernel)",
   "language": "python",
   "name": "python3"
  },
  "language_info": {
   "codemirror_mode": {
    "name": "ipython",
    "version": 3
   },
   "file_extension": ".py",
   "mimetype": "text/x-python",
   "name": "python",
   "nbconvert_exporter": "python",
   "pygments_lexer": "ipython3",
   "version": "3.11.5"
  },
  "vscode": {
   "interpreter": {
    "hash": "972b3bf27e332e87b5379f2791f6ef9dfc79c71018c370b0d7423235e20fe4d7"
   }
  }
 },
 "nbformat": 4,
 "nbformat_minor": 1
}
